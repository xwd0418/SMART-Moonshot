{
 "cells": [
  {
   "cell_type": "code",
   "execution_count": 1,
   "id": "85ccc245",
   "metadata": {},
   "outputs": [],
   "source": [
    "import warnings\n",
    "warnings.filterwarnings(\"ignore\", category=FutureWarning, message=\"You are using `torch.load` with `weights_only=False`\")\n",
    "warnings.filterwarnings(\"ignore\", category=UserWarning, message=\"The PyTorch API of nested tensors is in prototype stage and will change in the near future.\")\n",
    "%load_ext autoreload\n",
    "%autoreload 2\n",
    "\n",
    "import sys, os\n",
    "from moonshot_models.SMART_BART import SmartBart\n",
    "from moonshot_dataset.NMR_selfie_dataset import NMR_Selfie_DataModule, SELFIES_MAX_LEN\n",
    "from train_SMART_BART import data_mux\n",
    "from pathlib import Path\n",
    "import torch\n",
    "# from torch.utils.data import DataLoader\n",
    "torch.set_float32_matmul_precision('medium')"
   ]
  },
  {
   "cell_type": "code",
   "execution_count": 2,
   "id": "75322b61",
   "metadata": {},
   "outputs": [],
   "source": [
    "model_class = SmartBart\n",
    "import yaml\n",
    "checkpoint_path = \"/root/gurusmart/Moonshot/give_up_multiple_schedulers/compare_unfreeze/only_hsqc_1_from_scratch/checkpoints/epoch=97-step=83986.ckpt\"\n",
    "checkpoint_path = Path(checkpoint_path)\n",
    "model_path = checkpoint_path.parents[1]\n",
    "hyperpaerameters_path = model_path / \"hparams.yaml\"\n",
    "\n",
    "with open(hyperpaerameters_path, 'r') as file:\n",
    "    args = yaml.safe_load(file)\n",
    "data_module = data_mux(args)\n",
    "\n",
    "del args['checkpoint_path']\n",
    "args['validate_with_generation'] = True"
   ]
  },
  {
   "cell_type": "code",
   "execution_count": 3,
   "id": "1ea50721",
   "metadata": {},
   "outputs": [
    {
     "name": "stderr",
     "output_type": "stream",
     "text": [
      "Initialized SignCoordinateEncoder[784] with dims [365, 365, 54] and 2 positional encoders. 54 bits are reserved for encoding the final bit\n"
     ]
    },
    {
     "name": "stdout",
     "output_type": "stream",
     "text": [
      "load_encoder False\n"
     ]
    }
   ],
   "source": [
    "\n",
    "model = model_class.load_from_checkpoint(checkpoint_path=checkpoint_path, \n",
    "                                                 selfie_symbol_to_idx = data_module.symbol_to_idx,\n",
    "                                                selfie_max_len = 600,\n",
    "                                                p_args = args,\n",
    "        )"
   ]
  },
  {
   "cell_type": "code",
   "execution_count": 7,
   "id": "9c6447ef",
   "metadata": {},
   "outputs": [],
   "source": [
    "model = model.to('cpu')"
   ]
  },
  {
   "cell_type": "code",
   "execution_count": 8,
   "id": "90fe1749",
   "metadata": {},
   "outputs": [
    {
     "name": "stderr",
     "output_type": "stream",
     "text": [
      "Trainer will use only 1 of 2 GPUs because it is running inside an interactive / notebook environment. You may try to set `Trainer(devices=2)` but please note that multi-GPU inside interactive / notebook environments is considered experimental and unstable. Your mileage may vary.\n",
      "GPU available: True (cuda), used: True\n",
      "TPU available: False, using: 0 TPU cores\n",
      "HPU available: False, using: 0 HPUs\n"
     ]
    }
   ],
   "source": [
    "import pytorch_lightning as pl\n",
    "\n",
    "trainer = pl.Trainer(logger=None,  use_distributed_sampler=False)"
   ]
  },
  {
   "cell_type": "code",
   "execution_count": 9,
   "id": "991d30f4",
   "metadata": {},
   "outputs": [],
   "source": [
    "data_module.setup(stage='predict')"
   ]
  },
  {
   "cell_type": "code",
   "execution_count": null,
   "id": "31cb842d",
   "metadata": {},
   "outputs": [],
   "source": []
  },
  {
   "cell_type": "code",
   "execution_count": 15,
   "id": "1925000f",
   "metadata": {},
   "outputs": [
    {
     "name": "stdout",
     "output_type": "stream",
     "text": [
      "tensor([False])\n",
      "next_token [START]\n",
      "tensor([False])\n",
      "next_token [C]\n",
      "tensor([False])\n",
      "next_token [C]\n",
      "tensor([False])\n",
      "next_token [C]\n",
      "tensor([False])\n",
      "next_token [Branch1]\n",
      "tensor([False])\n",
      "next_token [C]\n",
      "tensor([False])\n",
      "next_token [C]\n",
      "tensor([False])\n",
      "next_token [C]\n",
      "tensor([False])\n",
      "next_token [=C]\n",
      "tensor([False])\n",
      "next_token [C]\n",
      "tensor([False])\n",
      "next_token [=C]\n",
      "tensor([False])\n",
      "next_token [C]\n",
      "tensor([False])\n",
      "next_token [=C]\n",
      "tensor([False])\n",
      "next_token [Branch1]\n",
      "tensor([False])\n",
      "next_token [C]\n",
      "tensor([False])\n",
      "next_token [C]\n",
      "tensor([False])\n",
      "next_token [C]\n",
      "tensor([False])\n",
      "next_token [O]\n",
      "tensor([False])\n",
      "next_token [C]\n",
      "tensor([False])\n",
      "next_token [C]\n",
      "tensor([False])\n",
      "next_token [=C]\n",
      "tensor([False])\n",
      "next_token [N]\n",
      "tensor([False])\n",
      "next_token [Branch1]\n",
      "tensor([False])\n",
      "next_token [Ring1]\n",
      "tensor([False])\n",
      "next_token [O]\n",
      "tensor([False])\n",
      "next_token [C]\n",
      "tensor([False])\n",
      "next_token [C]\n",
      "tensor([False])\n",
      "next_token [=Branch1]\n",
      "tensor([False])\n",
      "next_token [C]\n",
      "tensor([False])\n",
      "next_token [=O]\n",
      "tensor([False])\n",
      "next_token [C]\n",
      "tensor([False])\n",
      "next_token [=Ring1]\n",
      "tensor([False])\n",
      "next_token [=Branch2]\n",
      "tensor([False])\n",
      "next_token [C]\n",
      "tensor([False])\n",
      "next_token [Ring1]\n",
      "tensor([False])\n",
      "next_token [=N]\n",
      "tensor([False])\n",
      "next_token [Branch1]\n",
      "tensor([False])\n",
      "next_token [C]\n",
      "tensor([False])\n",
      "next_token [C]\n",
      "tensor([False])\n",
      "next_token [O]\n",
      "tensor([True])\n",
      "[C]\n",
      "[C]\n",
      "[C]\n",
      "[Branch1]\n",
      "[C]\n",
      "[C]\n",
      "[C]\n",
      "[=C]\n",
      "[C]\n",
      "[=C]\n",
      "[C]\n",
      "[=C]\n",
      "[Branch1]\n",
      "[C]\n",
      "[C]\n",
      "[C]\n",
      "[O]\n",
      "[C]\n",
      "[C]\n",
      "[=C]\n",
      "[N]\n",
      "[Branch1]\n",
      "[Ring1]\n",
      "[O]\n",
      "[C]\n",
      "[C]\n",
      "[=Branch1]\n",
      "[C]\n",
      "[=O]\n",
      "[C]\n",
      "[=Ring1]\n",
      "[=Branch2]\n",
      "[C]\n",
      "[Ring1]\n",
      "[=N]\n",
      "[Branch1]\n",
      "[C]\n",
      "[C]\n",
      "[O]\n"
     ]
    }
   ],
   "source": [
    "model.eval()\n",
    "for batch in data_module.predict_dataloader():\n",
    "    # (inputs, NMR_type_indicator, encoded_selfie, smiles ,mfp) = batch\n",
    "    batch[0] = batch[0].to(model.device)\n",
    "    batch[1] = batch[1].to(model.device)\n",
    "    result = model.predict_step(batch, 0)\n",
    "    break\n",
    "    "
   ]
  },
  {
   "cell_type": "code",
   "execution_count": 12,
   "id": "a128c9af",
   "metadata": {},
   "outputs": [
    {
     "data": {
      "text/plain": [
       "{'truth_smiles': ['CCC(C)C=CC=CC=C(C)C1Oc2cc[nH]c(=O)c2C(O)C1C'],\n",
       " 'predicted_smiles': ['CCC(C)C=CC=CC=C(C1)COC=2C=CN(OC)C(=O)C=2C1(C)O'],\n",
       " 'cosine_similarity': tensor(0.4386),\n",
       " 'valid_smiles_rate': tensor(1.)}"
      ]
     },
     "execution_count": 12,
     "metadata": {},
     "output_type": "execute_result"
    }
   ],
   "source": [
    "result"
   ]
  },
  {
   "cell_type": "code",
   "execution_count": null,
   "id": "099b5c5b",
   "metadata": {},
   "outputs": [
    {
     "data": {
      "text/plain": [
       "tensor([[  1, 201, 201, 201, 188, 201, 201, 201, 118, 201, 118, 201, 118, 188,\n",
       "         201, 201, 201, 316, 201, 201, 118, 293, 201, 111, 201, 138, 201, 142,\n",
       "           7, 201, 188, 201, 316, 201, 333, 297, 201,   2,   0,   0,   0,   0,\n",
       "           0,   0,   0,   0,   0,   0,   0,   0,   0,   0,   0,   0,   0,   0,\n",
       "           0,   0,   0,   0,   0,   0,   0,   0,   0,   0,   0,   0,   0,   0,\n",
       "           0,   0,   0,   0,   0,   0,   0,   0,   0,   0,   0,   0,   0,   0,\n",
       "           0,   0,   0,   0,   0,   0,   0,   0,   0,   0,   0,   0,   0,   0,\n",
       "           0,   0,   0,   0,   0,   0,   0,   0,   0,   0,   0,   0,   0,   0,\n",
       "           0,   0,   0,   0,   0,   0,   0,   0,   0,   0,   0,   0,   0,   0,\n",
       "           0,   0,   0,   0,   0,   0,   0,   0,   0,   0,   0,   0,   0,   0,\n",
       "           0,   0,   0,   0,   0,   0,   0,   0,   0,   0,   0,   0,   0,   0,\n",
       "           0,   0,   0,   0,   0,   0,   0,   0,   0,   0,   0,   0,   0,   0,\n",
       "           0,   0,   0,   0,   0,   0,   0,   0,   0,   0,   0,   0,   0,   0,\n",
       "           0,   0,   0,   0,   0,   0,   0,   0,   0,   0,   0,   0,   0,   0,\n",
       "           0,   0,   0,   0,   0,   0,   0,   0,   0,   0,   0,   0,   0,   0,\n",
       "           0,   0,   0,   0,   0,   0,   0,   0,   0,   0,   0,   0,   0,   0,\n",
       "           0,   0,   0,   0,   0,   0,   0,   0,   0,   0,   0,   0,   0,   0,\n",
       "           0,   0,   0,   0,   0,   0,   0,   0,   0,   0,   0,   0,   0,   0,\n",
       "           0,   0,   0,   0,   0,   0,   0,   0,   0,   0,   0,   0,   0,   0,\n",
       "           0,   0,   0,   0,   0,   0,   0,   0,   0,   0,   0,   0,   0,   0,\n",
       "           0,   0,   0,   0,   0,   0,   0,   0,   0,   0,   0,   0,   0,   0,\n",
       "           0,   0,   0,   0,   0,   0,   0,   0,   0,   0,   0,   0,   0,   0,\n",
       "           0,   0,   0,   0,   0,   0,   0,   0,   0,   0,   0,   0,   0,   0,\n",
       "           0,   0,   0,   0,   0,   0,   0,   0,   0,   0,   0,   0,   0,   0,\n",
       "           0,   0,   0,   0,   0,   0,   0,   0,   0,   0,   0,   0,   0,   0,\n",
       "           0,   0,   0,   0,   0,   0,   0,   0,   0,   0,   0,   0,   0,   0,\n",
       "           0,   0,   0,   0,   0,   0,   0,   0,   0,   0,   0,   0,   0,   0,\n",
       "           0,   0,   0,   0,   0,   0,   0,   0,   0,   0,   0,   0,   0,   0,\n",
       "           0,   0,   0,   0,   0,   0,   0,   0,   0,   0,   0,   0,   0,   0,\n",
       "           0,   0,   0,   0,   0,   0,   0,   0,   0,   0,   0,   0,   0,   0,\n",
       "           0,   0,   0,   0,   0,   0,   0,   0,   0,   0,   0,   0,   0,   0,\n",
       "           0,   0,   0,   0,   0,   0,   0,   0,   0,   0,   0,   0,   0,   0,\n",
       "           0,   0,   0,   0,   0,   0,   0,   0,   0,   0,   0,   0]])"
      ]
     },
     "execution_count": 14,
     "metadata": {},
     "output_type": "execute_result"
    }
   ],
   "source": [
    "batch[2]"
   ]
  },
  {
   "cell_type": "code",
   "execution_count": null,
   "id": "b1363e62",
   "metadata": {},
   "outputs": [
    {
     "data": {
      "text/plain": [
       "'[END]'"
      ]
     },
     "execution_count": 11,
     "metadata": {},
     "output_type": "execute_result"
    }
   ],
   "source": [
    "model.idx_to_symbol[2]"
   ]
  },
  {
   "cell_type": "code",
   "execution_count": null,
   "id": "4a3ebd43",
   "metadata": {},
   "outputs": [
    {
     "data": {
      "text/plain": [
       "2"
      ]
     },
     "execution_count": 15,
     "metadata": {},
     "output_type": "execute_result"
    }
   ],
   "source": [
    "model.selfie_symbol_to_idx['[END]']"
   ]
  }
 ],
 "metadata": {
  "kernelspec": {
   "display_name": "base",
   "language": "python",
   "name": "python3"
  },
  "language_info": {
   "codemirror_mode": {
    "name": "ipython",
    "version": 3
   },
   "file_extension": ".py",
   "mimetype": "text/x-python",
   "name": "python",
   "nbconvert_exporter": "python",
   "pygments_lexer": "ipython3",
   "version": "3.11.10"
  }
 },
 "nbformat": 4,
 "nbformat_minor": 5
}
