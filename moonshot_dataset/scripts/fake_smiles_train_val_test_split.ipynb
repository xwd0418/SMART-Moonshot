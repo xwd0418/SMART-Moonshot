{
 "cells": [
  {
   "cell_type": "code",
   "execution_count": 5,
   "metadata": {},
   "outputs": [],
   "source": [
    "\"\"\"how long to load as list\"\"\"\n",
    "\n",
    "# open /root/Moonshot/SMART-Moonshot/dataset/my_molecules_gen.smi and load as list\n",
    "f = open('/root/Moonshot/SMART-Moonshot/dataset/fake_smiles_50M.smi', 'r')\n",
    "lines = f.readlines()"
   ]
  },
  {
   "cell_type": "code",
   "execution_count": 3,
   "metadata": {},
   "outputs": [
    {
     "data": {
      "text/plain": [
       "(array([1.4210e+03, 1.3531e+04, 3.6633e+04, 5.4736e+04, 4.6400e+04,\n",
       "        3.7268e+04, 2.6865e+04, 2.2268e+04, 1.5443e+04, 1.1542e+04,\n",
       "        6.3800e+03, 4.2860e+03, 2.9760e+03, 2.0150e+03, 1.2340e+03,\n",
       "        8.9000e+02, 5.7100e+02, 5.8300e+02, 4.0800e+02, 2.7700e+02,\n",
       "        4.0600e+02, 2.8700e+02, 2.0000e+02, 2.1000e+02, 1.3000e+02,\n",
       "        1.1500e+02, 1.0500e+02, 5.1000e+01, 5.5000e+01, 2.3000e+01,\n",
       "        3.8000e+01, 1.8000e+01, 1.3000e+01, 1.1000e+01, 7.0000e+00,\n",
       "        6.0000e+00, 6.0000e+00, 1.4000e+01, 5.0000e+00, 0.0000e+00,\n",
       "        6.0000e+00, 4.0000e+00, 4.0000e+00, 5.0000e+00, 1.0000e+00,\n",
       "        1.0000e+00, 1.0000e+00, 1.0000e+00, 2.0000e+00, 3.0000e+00]),\n",
       " array([  1.  ,  13.52,  26.04,  38.56,  51.08,  63.6 ,  76.12,  88.64,\n",
       "        101.16, 113.68, 126.2 , 138.72, 151.24, 163.76, 176.28, 188.8 ,\n",
       "        201.32, 213.84, 226.36, 238.88, 251.4 , 263.92, 276.44, 288.96,\n",
       "        301.48, 314.  , 326.52, 339.04, 351.56, 364.08, 376.6 , 389.12,\n",
       "        401.64, 414.16, 426.68, 439.2 , 451.72, 464.24, 476.76, 489.28,\n",
       "        501.8 , 514.32, 526.84, 539.36, 551.88, 564.4 , 576.92, 589.44,\n",
       "        601.96, 614.48, 627.  ]),\n",
       " <BarContainer object of 50 artists>)"
      ]
     },
     "execution_count": 3,
     "metadata": {},
     "output_type": "execute_result"
    },
    {
     "data": {
      "image/png": "[encoded data removed]",
      "text/plain": [
       "<Figure size 640x480 with 1 Axes>"
      ]
     },
     "metadata": {},
     "output_type": "display_data"
    }
   ],
   "source": [
    "import pickle\n",
    "smiles_2d_dataset = list(pickle.load(open('/workspace/SMILES_dataset/train/SMILES/index.pkl', 'rb')).values())\n",
    "smiles_1d_dataset = list(pickle.load(open('/workspace/OneD_Only_Dataset/train/SMILES/index.pkl', 'rb')).values())\n",
    "all_len=[len(x) for x in smiles_2d_dataset+smiles_1d_dataset]\n",
    "import matplotlib.pyplot as plt\n",
    "plt.hist(all_len, bins=50)"
   ]
  },
  {
   "cell_type": "code",
   "execution_count": 4,
   "metadata": {},
   "outputs": [
    {
     "name": "stdout",
     "output_type": "stream",
     "text": [
      "max length:  627\n"
     ]
    }
   ],
   "source": [
    "print(\"max length: \", max(all_len))"
   ]
  },
  {
   "cell_type": "code",
   "execution_count": 2,
   "metadata": {},
   "outputs": [],
   "source": [
    "smile_and_name_pairs = [line.strip().split(\"\\t\") for line in lines]\n",
    "all_smiles = [  smile for smile, name in smile_and_name_pairs]"
   ]
  },
  {
   "cell_type": "code",
   "execution_count": 3,
   "metadata": {},
   "outputs": [
    {
     "data": {
      "text/plain": [
       "'C(\\\\C(=O)O)(C)=C\\\\CCCCCCC\\tgenmol_46'"
      ]
     },
     "execution_count": 3,
     "metadata": {},
     "output_type": "execute_result"
    }
   ],
   "source": [
    "lines[45].strip()"
   ]
  },
  {
   "cell_type": "code",
   "execution_count": 4,
   "metadata": {},
   "outputs": [
    {
     "data": {
      "text/plain": [
       "16319870"
      ]
     },
     "execution_count": 4,
     "metadata": {},
     "output_type": "execute_result"
    }
   ],
   "source": [
    "unique_smiles = set(all_smiles)\n",
    "len(unique_smiles)"
   ]
  },
  {
   "cell_type": "code",
   "execution_count": 5,
   "metadata": {},
   "outputs": [],
   "source": [
    "unique_smiles = list(unique_smiles)\n",
    "len_unique_smiles = len(unique_smiles)"
   ]
  },
  {
   "cell_type": "code",
   "execution_count": 7,
   "metadata": {},
   "outputs": [],
   "source": [
    "len_each_smile = [len(smile) for smile in unique_smiles]"
   ]
  },
  {
   "cell_type": "code",
   "execution_count": 9,
   "metadata": {},
   "outputs": [
    {
     "data": {
      "text/plain": [
       "(100.14399195581828, 61.08946937438672, 1, 1175)"
      ]
     },
     "execution_count": 9,
     "metadata": {},
     "output_type": "execute_result"
    }
   ],
   "source": [
    "import numpy as np\n",
    "len_each_smile = np.array(len_each_smile)\n",
    "len_each_smile.mean(), len_each_smile.std(), len_each_smile.min(), len_each_smile.max()"
   ]
  },
  {
   "cell_type": "code",
   "execution_count": 14,
   "metadata": {},
   "outputs": [
    {
     "data": {
      "text/plain": [
       "9177"
      ]
     },
     "execution_count": 14,
     "metadata": {},
     "output_type": "execute_result"
    }
   ],
   "source": [
    "# count how many smiles are longer than 300 characters\n",
    "len_long_smiles = len_each_smile[len_each_smile > 500]\n",
    "len(len_long_smiles)"
   ]
  },
  {
   "cell_type": "code",
   "execution_count": 13,
   "metadata": {},
   "outputs": [
    {
     "data": {
      "text/plain": [
       "(array([3.704520e+05, 2.328718e+06, 3.396245e+06, 3.015946e+06,\n",
       "        2.449677e+06, 1.653572e+06, 1.116397e+06, 6.799430e+05,\n",
       "        4.486210e+05, 2.738130e+05, 1.896670e+05, 1.239730e+05,\n",
       "        8.788200e+04, 5.913700e+04, 4.175500e+04, 2.652000e+04,\n",
       "        1.840400e+04, 1.167500e+04, 8.182000e+03, 5.359000e+03,\n",
       "        3.990000e+03, 2.704000e+03, 1.967000e+03, 1.365000e+03,\n",
       "        1.059000e+03, 7.680000e+02, 5.770000e+02, 4.310000e+02,\n",
       "        3.020000e+02, 2.420000e+02, 1.410000e+02, 1.050000e+02,\n",
       "        7.800000e+01, 7.100000e+01, 3.200000e+01, 3.900000e+01,\n",
       "        1.500000e+01, 1.300000e+01, 1.000000e+01, 1.000000e+01,\n",
       "        3.000000e+00, 5.000000e+00, 0.000000e+00, 2.000000e+00,\n",
       "        1.000000e+00, 1.000000e+00, 0.000000e+00, 0.000000e+00,\n",
       "        0.000000e+00, 1.000000e+00]),\n",
       " array([1.00000e+00, 2.44800e+01, 4.79600e+01, 7.14400e+01, 9.49200e+01,\n",
       "        1.18400e+02, 1.41880e+02, 1.65360e+02, 1.88840e+02, 2.12320e+02,\n",
       "        2.35800e+02, 2.59280e+02, 2.82760e+02, 3.06240e+02, 3.29720e+02,\n",
       "        3.53200e+02, 3.76680e+02, 4.00160e+02, 4.23640e+02, 4.47120e+02,\n",
       "        4.70600e+02, 4.94080e+02, 5.17560e+02, 5.41040e+02, 5.64520e+02,\n",
       "        5.88000e+02, 6.11480e+02, 6.34960e+02, 6.58440e+02, 6.81920e+02,\n",
       "        7.05400e+02, 7.28880e+02, 7.52360e+02, 7.75840e+02, 7.99320e+02,\n",
       "        8.22800e+02, 8.46280e+02, 8.69760e+02, 8.93240e+02, 9.16720e+02,\n",
       "        9.40200e+02, 9.63680e+02, 9.87160e+02, 1.01064e+03, 1.03412e+03,\n",
       "        1.05760e+03, 1.08108e+03, 1.10456e+03, 1.12804e+03, 1.15152e+03,\n",
       "        1.17500e+03]),\n",
       " <BarContainer object of 50 artists>)"
      ]
     },
     "execution_count": 13,
     "metadata": {},
     "output_type": "execute_result"
    },
    {
     "data": {
      "image/png": "[encoded data removed]",
      "text/plain": [
       "<Figure size 640x480 with 1 Axes>"
      ]
     },
     "metadata": {},
     "output_type": "display_data"
    }
   ],
   "source": [
    "import matplotlib.pyplot as plt\n",
    "plt.hist(len_each_smile, bins=50)"
   ]
  },
  {
   "cell_type": "code",
   "execution_count": 12,
   "metadata": {},
   "outputs": [],
   "source": [
    "import pickle\n",
    "for split in ['train',\"val\", 'test']:\n",
    "    if split=='train':\n",
    "        ind_start = 0\n",
    "        ind_end = int(len_unique_smiles*0.8)\n",
    "    \n",
    "    if split=='val':\n",
    "        ind_start = int(len_unique_smiles*0.8)\n",
    "        ind_end = int(len_unique_smiles*0.9)\n",
    "    if split=='test':\n",
    "        ind_start = int(len_unique_smiles*0.9)\n",
    "        ind_end = len(unique_smiles)  \n",
    "        \n",
    "    current_smiles = unique_smiles[ind_start:ind_end]  \n",
    "    with open(f'/root/Moonshot/SMART-Moonshot/dataset/{split}_smiles.pkl', 'wb') as f:\n",
    "        pickle.dump(current_smiles, f)\n",
    "    "
   ]
  },
  {
   "cell_type": "code",
   "execution_count": 15,
   "metadata": {},
   "outputs": [],
   "source": [
    "# filter out smiles that are longer than 300 characters\n",
    "\n",
    "unique_smiles = list(filter(lambda x: len(x) <= 300, unique_smiles))\n",
    "len_unique_smiles = len(unique_smiles)\n",
    "\n",
    "\n",
    "for split in ['train',\"val\", 'test']:\n",
    "    if split=='train':\n",
    "        ind_start = 0\n",
    "        ind_end = int(len_unique_smiles*0.8)\n",
    "    \n",
    "    if split=='val':\n",
    "        ind_start = int(len_unique_smiles*0.8)\n",
    "        ind_end = int(len_unique_smiles*0.9)\n",
    "    if split=='test':\n",
    "        ind_start = int(len_unique_smiles*0.9)\n",
    "        ind_end = len_unique_smiles\n",
    "        \n",
    "    current_smiles = unique_smiles[ind_start:ind_end]  \n",
    "    with open(f'/root/Moonshot/SMART-Moonshot/dataset/{split}_smiles_shorter_than_300.pkl', 'wb') as f:\n",
    "        pickle.dump(current_smiles, f)"
   ]
  },
  {
   "cell_type": "code",
   "execution_count": null,
   "metadata": {},
   "outputs": [],
   "source": []
  }
 ],
 "metadata": {
  "kernelspec": {
   "display_name": "base",
   "language": "python",
   "name": "python3"
  },
  "language_info": {
   "codemirror_mode": {
    "name": "ipython",
    "version": 3
   },
   "file_extension": ".py",
   "mimetype": "text/x-python",
   "name": "python",
   "nbconvert_exporter": "python",
   "pygments_lexer": "ipython3",
   "version": "3.10.13"
  }
 },
 "nbformat": 4,
 "nbformat_minor": 2
}
